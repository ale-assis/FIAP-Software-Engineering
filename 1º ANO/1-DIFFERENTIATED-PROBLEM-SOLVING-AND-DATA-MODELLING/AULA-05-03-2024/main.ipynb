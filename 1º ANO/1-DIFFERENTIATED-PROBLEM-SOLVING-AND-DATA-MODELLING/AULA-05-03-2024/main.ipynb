import numpy as np
import matplotlib.pyplot as plt
from scipy.optimize import curve_fit

# Dados extraídos da OCR da imagem
times = np.array([0, 1, 2, 3, 4, 5, 6, 7, 8, 9, 10, 11, 12])  # Assumindo que os tempos estão em horas e 12:00 A.M. é 0
depths = np.array([9.8, 11.4, 11.6, 11.2, 9.6, 8.5, 6.5, 5.7, 5.4, 6.0, 7.0, 8.6, 10.0])

# Define a função modelo para o ajuste
def tide_model(t, a, b, c, d):
    """Modelo senoidal: a * sin(b * t + c) + d"""
    return a * np.sin(b * t + c) + d

# Usa curve_fit para encontrar os melhores parâmetros
params, covariance = curve_fit(tide_model, times, depths, p0=[1, 2 * np.pi / 12, 0, 8])


# Gera tempos para visualização da curva ajustada
t_fit = np.linspace(times.min(), times.max(), 100)
depth_fit = tide_model(t_fit, *params)


# Cria o gráfico
plt.figure(figsize=(10, 5))
plt.scatter(times, depths, color='red', label='Pontos de Dados')
plt.plot(t_fit, depth_fit, label='Curva Ajustada Senoidal')

# Prepara o texto da equação
equation_text = f'Profundidade(t) = {params[0]:.2f} * sin({params[1]:.2f} * t + {params[2]:.2f}) + {params[3]:.2f}'

# Exibe a equação no gráfico
plt.text(1, 6, equation_text, fontsize=12, bbox=dict(facecolor='white', alpha=0.5))

# Configurações adicionais do gráfico
plt.title('Ajuste do Modelo de Profundidade da Maré com Equação')
plt.xlabel('Tempo (horas desde a meia-noite)')
plt.ylabel('Profundidade (pés)')
plt.legend()
plt.grid(True)
plt.show()
