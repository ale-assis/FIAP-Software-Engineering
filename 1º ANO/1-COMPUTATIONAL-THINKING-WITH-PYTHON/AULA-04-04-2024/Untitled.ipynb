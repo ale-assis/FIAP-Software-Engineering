{
 "cells": [
  {
   "cell_type": "code",
   "execution_count": 1,
   "id": "4aa33cda-28eb-48bf-8f55-31fec910551a",
   "metadata": {},
   "outputs": [
    {
     "name": "stdout",
     "output_type": "stream",
     "text": [
      "Teste\n"
     ]
    }
   ],
   "source": [
    "'''pares = 0\n",
    "qtd = 0\n",
    "\n",
    "while qtd < 5:\n",
    "    num = int(input(\"Diga um numero: \"))\n",
    "    if num % 2 == 0:\n",
    "        pares = pares + 1\n",
    "        qtd = qtd + 1'''\n",
    "\n",
    "'''senha_cadastrada = '1234'\n",
    "senha_tentativa = input('Diga sua senha: ')\n",
    "tentativas = 1\n",
    "while senha_tentativa != senha_cadastrada and tentativas < 3:\n",
    "    print(f'Vc é hacker? Só mais {3 - tentativas} tentativas!')\n",
    "    senha_cadastrada = input('Diga a sua senha: ')\n",
    "    tentativas = tentativas + 1\n",
    "if senha_cadastrada == senha_tentativa:\n",
    "    print('Acesso Liberado')\n",
    "else:\n",
    "    print('Sai Hacker')'''\n",
    "\n",
    "'''resposta = input('Diga sim ou não')\n",
    "while resposta != 'sim' and resposta != 'não':\n",
    "    resposta = input('Diga sim ou não: ')\n",
    "\n",
    "resposta = input('Diga sim ou não')\n",
    "while not(resposta == 'sim' or resposta == 'não'):\n",
    "    resposta = input('Diga sim ou não: ')'''\n",
    "\n",
    "'''i = 0\n",
    "soma = 0\n",
    "while i < 100:\n",
    "    i += 1\n",
    "    soma += i * i\n",
    "print(soma)\n",
    "'''\n",
    "\n",
    "'''num = input('Diga um numero: ')\n",
    "while not num.isnumeric: #num.isnumeric() == False\n",
    "    num = input('Diga um número: ')\n",
    "num = int(num)\n",
    "\n",
    "print('idahdiadh').isnumeric())\n",
    "print('234nsd'.isnumeric())\n",
    "print('1.23'.isnumeric())\n",
    "print('4354'.isnumeric())\n",
    "'''\n",
    "\n",
    "num = input('Diga um número: ')\n",
    "while True: #num.isnumeric() == Fase\n",
    "    num = input('Diga um número: ')\n",
    "    is num.isnumeric():\n",
    "    break\n",
    "num = int(num)\n",
    "\n",
    "while num < 0 or num > 10:"
   ]
  },
  {
   "cell_type": "code",
   "execution_count": null,
   "id": "667c0baf-5b90-43bd-b7e4-447433a27caf",
   "metadata": {},
   "outputs": [],
   "source": []
  }
 ],
 "metadata": {
  "kernelspec": {
   "display_name": "Python 3 (ipykernel)",
   "language": "python",
   "name": "python3"
  },
  "language_info": {
   "codemirror_mode": {
    "name": "ipython",
    "version": 3
   },
   "file_extension": ".py",
   "mimetype": "text/x-python",
   "name": "python",
   "nbconvert_exporter": "python",
   "pygments_lexer": "ipython3",
   "version": "3.11.7"
  }
 },
 "nbformat": 4,
 "nbformat_minor": 5
}
